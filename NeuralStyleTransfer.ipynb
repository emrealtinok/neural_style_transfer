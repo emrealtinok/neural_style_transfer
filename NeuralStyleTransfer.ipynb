{
  "nbformat": 4,
  "nbformat_minor": 0,
  "metadata": {
    "accelerator": "GPU",
    "colab": {
      "name": "NeuralStyleTransfer.ipynb",
      "provenance": [],
      "collapsed_sections": [],
      "mount_file_id": "1xQ5nFlLHyiLnTbw8IvGzkP5KmhUOgfFY",
      "authorship_tag": "ABX9TyPTkroyMVxXl3yhkNBeQpHT",
      "include_colab_link": true
    },
    "kernelspec": {
      "display_name": "Python 3",
      "name": "python3"
    }
  },
  "cells": [
    {
      "cell_type": "markdown",
      "metadata": {
        "id": "view-in-github",
        "colab_type": "text"
      },
      "source": [
        "<a href=\"https://colab.research.google.com/github/emrealtinok/neural_style_transfer/blob/main/NeuralStyleTransfer.ipynb\" target=\"_parent\"><img src=\"https://colab.research.google.com/assets/colab-badge.svg\" alt=\"Open In Colab\"/></a>"
      ]
    },
    {
      "cell_type": "code",
      "metadata": {
        "id": "RA3n8Da2jKhG"
      },
      "source": [
        "import numpy as np\n",
        "import tensorflow as tf\n",
        "from tensorflow.keras.applications import vgg19\n",
        "\n",
        "\n",
        "base_image_path = tf.keras.utils.get_file(\n",
        "    \"dali.jpg\", \"https://wallpaperaccess.com/full/300219.jpg\"\n",
        ")\n",
        "\n",
        "style_reference_image_path = tf.keras.utils.get_file(\n",
        "    \"vangogh\", \"https://img.rawpixel.com/s3fs-private/rawpixel_images/website_content/pdvangogh-dt1567.jpg?w=1000&dpr=1&fit=default&crop=default&q=65&vib=3&con=3&usm=15&bg=F4F4F3&ixlib=js-2.2.1&s=542c62759cf4dc748b9d7df513560ee0\"\n",
        ")\n",
        "\n",
        "style_reference_image_path_2 = tf.keras.utils.get_file(\n",
        "    \"picasso.jpg\", \"https://www.itl.cat/pngfile/big/5-57917_pablo-picasso-paintings-wide-hd-wallpaper-modern-art.jpg\"\n",
        ")\n",
        "\n",
        "result_prefix = \"dali_generated\"\n",
        "\n",
        "# Weights of the different loss components\n",
        "total_variation_weight = 1e-11\n",
        "style_weight = 1e-5\n",
        "content_weight = 2.5e-8\n",
        "\n",
        "# Dimensions of the generated picture\n",
        "width, height = tf.keras.preprocessing.image.load_img(base_image_path).size\n",
        "img_nrows = 720\n",
        "img_ncols = int(width * img_nrows / height)"
      ],
      "execution_count": null,
      "outputs": []
    },
    {
      "cell_type": "code",
      "metadata": {
        "id": "2OoDVn-amKMh"
      },
      "source": [
        "from IPython.display import Image, display\n",
        "\n",
        "display(Image(base_image_path))\n",
        "display(Image(style_reference_image_path))\n",
        "display(Image(style_reference_image_path_2))\n"
      ],
      "execution_count": 2,
      "outputs": []
    },
    {
      "cell_type": "code",
      "metadata": {
        "id": "fjrkyK96mfNT"
      },
      "source": [
        "def preprocess_image(image_path):\n",
        "    # Util function to open, resize and format pictures into appropriate tensors\n",
        "    img = tf.keras.preprocessing.image.load_img(\n",
        "        image_path, target_size=(img_nrows, img_ncols)\n",
        "    )\n",
        "    img = tf.keras.preprocessing.image.img_to_array(img)\n",
        "    img = np.expand_dims(img, axis=0)\n",
        "    img = vgg19.preprocess_input(img)\n",
        "    return tf.convert_to_tensor(img)\n",
        "\n",
        "def deprocess_image(x):\n",
        "    # Util function to convert a tensor into a valid image\n",
        "    x = x.reshape((img_nrows, img_ncols, 3))\n",
        "    # Remove zero-center by mean pixel\n",
        "    x[:, :, 0] += 103.939\n",
        "    x[:, :, 1] += 116.779\n",
        "    x[:, :, 2] += 123.68\n",
        "    # 'BGR'->'RGB'\n",
        "    x = x[:, :, ::-1]\n",
        "    x = np.clip(x, 0, 255).astype(\"uint8\")\n",
        "    return x"
      ],
      "execution_count": 3,
      "outputs": []
    },
    {
      "cell_type": "code",
      "metadata": {
        "id": "vlfLkqNDnYtk"
      },
      "source": [
        "# The gram matrix of an image tensor (feature-wise outer product)\n",
        "\n",
        "\n",
        "def gram_matrix(x):\n",
        "    x = tf.transpose(x, (2, 0, 1))\n",
        "    features = tf.reshape(x, (tf.shape(x)[0], -1))\n",
        "    gram = tf.matmul(features, tf.transpose(features))\n",
        "    return gram\n",
        "\n",
        "\n",
        "# The \"style loss\" is designed to maintain\n",
        "# the style of the reference image in the generated image.\n",
        "# It is based on the gram matrices (which capture style) of\n",
        "# feature maps from the style reference images\n",
        "# and from the generated image\n",
        "\n",
        "\n",
        "def style_loss(style, style_2, combination):\n",
        "    S = gram_matrix(style)\n",
        "    S2 = gram_matrix(style_2)\n",
        "    S = (S + S2) / 2\n",
        "    C = gram_matrix(combination)\n",
        "    channels = 3\n",
        "    size = img_nrows * img_ncols\n",
        "    return tf.reduce_sum(tf.square(S - C)) / (4 * (channels ** 2) * (size ** 2))\n",
        "\n",
        "\n",
        "# An auxiliary loss function\n",
        "# designed to maintain the \"content\" of the\n",
        "# base image in the generated image\n",
        "\n",
        "\n",
        "def content_loss(base, combination):\n",
        "    return tf.reduce_sum(tf.square(combination - base))\n",
        "\n",
        "\n",
        "# The 3rd loss function, total variation loss,\n",
        "# designed to keep the generated image locally coherent\n",
        "\n",
        "\n",
        "def total_variation_loss(x):\n",
        "    a = tf.square(\n",
        "        x[:, : img_nrows - 1, : img_ncols - 1, :] - x[:, 1:, : img_ncols - 1, :]\n",
        "    )\n",
        "    b = tf.square(\n",
        "        x[:, : img_nrows - 1, : img_ncols - 1, :] - x[:, : img_nrows - 1, 1:, :]\n",
        "    )\n",
        "    return tf.reduce_sum(tf.pow(a + b, 1.25))"
      ],
      "execution_count": 4,
      "outputs": []
    },
    {
      "cell_type": "code",
      "metadata": {
        "id": "k8z4R7SbusIB"
      },
      "source": [
        "# Builds a VGG19 model loaded with pre-trained ImageNet weights\n",
        "model = vgg19.VGG19(weights=\"imagenet\", include_top=False)\n",
        "\n",
        "# Gets the symbolic outputs of each \"key\" layer (we gave them unique names).\n",
        "outputs_dict = dict([(layer.name, layer.output) for layer in model.layers])\n",
        "\n",
        "# Sets up a model that returns the activation values for every layer in\n",
        "# VGG19 (as a dict).\n",
        "feature_extractor = tf.keras.Model(inputs=model.inputs, outputs=outputs_dict)"
      ],
      "execution_count": 5,
      "outputs": []
    },
    {
      "cell_type": "code",
      "metadata": {
        "id": "_DWD0b0WsY--"
      },
      "source": [
        "# Layer names\n",
        "print(outputs_dict.keys())"
      ],
      "execution_count": null,
      "outputs": []
    },
    {
      "cell_type": "code",
      "metadata": {
        "id": "WVqKEuDluuO8"
      },
      "source": [
        "# List of layers to use for the style loss.\n",
        "style_layer_names = [\n",
        "    \"block1_conv1\",\n",
        "    \"block2_conv1\",\n",
        "    \"block3_conv1\",\n",
        "    \"block4_conv1\",\n",
        "    \"block5_conv1\"\n",
        "]\n",
        "# The layer to use for the content loss\n",
        "content_layer_name = \"block5_conv2\"\n",
        "\n",
        "# Weights of each style layer\n",
        "style_weights = [1, 1, 1, 1, 1]\n",
        "individual_style_weights = dict([(style_layer_names[i], style_weights[i]) for i in range(len(style_layer_names))])\n",
        "\n",
        "def compute_loss(combination_image, base_image, style_reference_image, style_reference_image_2):\n",
        "    input_tensor = tf.concat(\n",
        "        [base_image, style_reference_image, style_reference_image_2, combination_image], axis=0\n",
        "    )\n",
        "    features = feature_extractor(input_tensor)\n",
        "\n",
        "    # Initialize the loss\n",
        "    loss = tf.zeros(shape=())\n",
        "\n",
        "    # Add content loss\n",
        "    layer_features = features[content_layer_name]\n",
        "    base_image_features = layer_features[0, :, :, :]\n",
        "    combination_features = layer_features[3, :, :, :]\n",
        "    loss = loss + content_weight * content_loss(\n",
        "        base_image_features, combination_features\n",
        "    )\n",
        "\n",
        "    # Add style loss\n",
        "    for layer_name in style_layer_names:\n",
        "        layer_features = features[layer_name]\n",
        "        style_reference_features = layer_features[1, :, :, :]\n",
        "        style_reference_features_2 = layer_features[2, :, :, :]\n",
        "        combination_features = layer_features[3, :, :, :]\n",
        "\n",
        "        # Adds style loss for both style images\n",
        "        sl = style_loss(style_reference_features, style_reference_features_2, combination_features)\n",
        "        loss += (style_weight / (len(style_layer_names))) * sl * individual_style_weights[layer_name]\n",
        " \n",
        "\n",
        "\n",
        "    # Add total variation loss\n",
        "    loss += total_variation_weight * total_variation_loss(combination_image)\n",
        "    return loss"
      ],
      "execution_count": 7,
      "outputs": []
    },
    {
      "cell_type": "code",
      "metadata": {
        "id": "eQITQ-Rju1IC"
      },
      "source": [
        "# Defines function that computes the loss and gradients\n",
        "@tf.function\n",
        "def compute_loss_and_grads(combination_image, base_image, style_reference_image, style_reference_image_2):\n",
        "    with tf.GradientTape() as tape:\n",
        "        loss = compute_loss(combination_image, base_image, style_reference_image, style_reference_image_2)\n",
        "    grads = tape.gradient(loss, combination_image)\n",
        "    return loss, grads"
      ],
      "execution_count": 8,
      "outputs": []
    },
    {
      "cell_type": "code",
      "metadata": {
        "id": "I5aKyOILu4Uz"
      },
      "source": [
        "# Optimizer\n",
        "optimizer = tf.keras.optimizers.SGD(\n",
        "    tf.keras.optimizers.schedules.ExponentialDecay(\n",
        "        initial_learning_rate=100.0, decay_steps=250, decay_rate=0.96\n",
        "    )\n",
        ")\n",
        "\n",
        "# Preprocessing\n",
        "base_image = preprocess_image(base_image_path)\n",
        "style_reference_image = preprocess_image(style_reference_image_path)\n",
        "style_reference_image_2 = preprocess_image(style_reference_image_path_2)\n",
        "combination_image = tf.Variable(preprocess_image(base_image_path))\n",
        "\n",
        "#Applies the style transfer\n",
        "iterations = 20000\n",
        "for i in range(1, iterations + 1):\n",
        "    loss, grads = compute_loss_and_grads(\n",
        "        combination_image, base_image, style_reference_image, style_reference_image_2)\n",
        "    optimizer.apply_gradients([(grads, combination_image)])\n",
        "    if i % 1000 == 0:\n",
        "        print(\"Iteration %d: loss=%.2f\" % (i, loss))\n",
        "        img = deprocess_image(combination_image.numpy())\n",
        "        fname = result_prefix + \"_at_iteration_%d.png\" % i\n",
        "        tf.keras.preprocessing.image.save_img(fname, img)"
      ],
      "execution_count": null,
      "outputs": []
    },
    {
      "cell_type": "code",
      "metadata": {
        "id": "cbWQp_251Bps"
      },
      "source": [
        "display(Image(result_prefix + \"_at_iteration_20000.png\"))"
      ],
      "execution_count": null,
      "outputs": []
    }
  ]
}